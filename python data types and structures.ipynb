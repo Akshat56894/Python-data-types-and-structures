{
  "cells": [
    {
      "cell_type": "markdown",
      "source": [
        "# Python Data and Structures"
      ],
      "metadata": {
        "id": "5XON2BBUeAmn"
      },
      "id": "5XON2BBUeAmn"
    },
    {
      "cell_type": "markdown",
      "source": [
        "1.What are data structures and Why are they important ?\n",
        "- Data structures are ways to organize and store data efficiently. They are important because they optimize how we access and modify data, leading to faster and more memory-efficient programs.\n",
        "\n",
        "2.Explain the difference between mutable and immutable data types with example.\n",
        "- Mutable data types can be changed after they are created (e.g., lists [1, 2, 3]), while immutable data types cannot be changed after creation (e.g., strings \"hello\").\n",
        "\n",
        "3.What are the main differences between lists and tuples in python ?\n",
        "- The main differences are:\n",
        "\n",
        "  Mutability: Lists are mutable (can be changed after creation), while tuples are immutable (cannot be changed).\n",
        "  Syntax: Lists use [] square brackets, while tuples use () parentheses.\n",
        "  Use Case: Lists are for collections that need modification; tuples are for fixed collections or when immutability is desired (e.g., dictionary keys, function arguments that shouldn't be altered).\n",
        "\n",
        "4.Describe how dictionaries store data ?\n",
        "- Python dictionaries store data as key-value pairs. Each unique key\n",
        "  maps to a specific value. They are implemented using a hash table, which allows for very fast lookups, insertions, and deletions based on the keys. Keys must be immutable (e.g., strings, numbers, tuples), while values can be of any data type. Since Python 3.7, dictionaries maintain insertion order.  \n",
        "\n",
        "5.Why might you use a set instead of a list in python ?\n",
        "- You'd use a set instead of a list in Python when you need:\n",
        "\n",
        "  1.Uniqueness: Sets automatically remove duplicate elements.\n",
        "  2.Fast membership testing: Checking if an item exists in a set is generally much faster than in a list.\n",
        "  3.No specific order: Sets are unordered collections.\n",
        "\n",
        "6.What is a string in python and how is it different from a list ?  \n",
        "- A string in Python is a sequence of characters, used for text. A list\n",
        "  is a sequence of items of any type. The key differences are that strings are immutable (cannot be changed after creation) and specifically hold characters, while lists are mutable (can be changed) and can hold diverse data types.\n",
        "\n",
        "7.How do tuples ensures data integrity in python ?  \n",
        "- Tuples ensure data integrity in Python because they are immutable.\n",
        "  Once created, their elements cannot be changed, added, or removed, preventing accidental modification of the data they hold.\n",
        "\n",
        "8.What is a hash table and how does it relate to dictionaries in python ?\n",
        "- A hash table is a data structure that maps keys to values using a\n",
        "  \"hash function\" to quickly find the right location (index) in an array.\n",
        "\n",
        "  Python dictionaries are implemented using hash tables. This means they use hashing to provide very fast average-case lookup, insertion, and deletion of key-value pairs.\n",
        "\n",
        "9.Can lists contain different data types in python ?\n",
        "- Yes, absolutely. Python lists can contain elements of different data\n",
        "  types (e.g., integers, strings, floats, even other lists or objects) within the same list.\n",
        "\n",
        "10.Explain why strings are immutable in python.\n",
        "- Strings are immutable in Python because:\n",
        "\n",
        "1.  *Data Integrity:* It prevents accidental modification, making code more predictable and easier to debug.\n",
        "2.  *Hashability:* Immutable objects can have a constant hash value, allowing them to be used as keys in dictionaries and elements in sets for efficient lookup.\n",
        "3.  *Performance Optimization:* Python can perform optimizations like string interning (reusing identical strings in memory) and safely cache hash values.\n",
        "4.  *Thread Safety:* In multi-threaded environments, immutable strings don't need locks, as they can't be changed by different threads concurrently, avoiding data corruption.\n",
        "\n",
        "11.Why advantages do dictionaries offer over lists for certain tasks ?\n",
        "- Dictionaries offer much faster lookups when you need to retrieve a\n",
        "  value based on a specific key, rather than by its numerical position. They are ideal for representing key-value relationships and when data needs to be uniquely identified (e.g., a person's name mapping to their age).\n",
        "\n",
        "12.Describe a scenario where using a tuple would be preferable over a list.\n",
        "- You'd prefer a tuple over a list when representing a fixed collection\n",
        "  of related items that should not change, like geographical coordinates (latitude, longitude) or a date (year, month, day).\n",
        "\n",
        "13.How do sets handle duplicate values in python ?\n",
        "- Sets automatically discard duplicate values, ensuring that each\n",
        "  element in a set is unique. If you try to add an existing element, the set simply ignores it.\n",
        "\n",
        "14.How does the \"in\" keyword work differently for lists and dictionaries ?\n",
        "- For lists, the in keyword checks if an element's value exists     anywhere within the list (it performs a linear search, which can be slow for large lists).\n",
        "\n",
        "  For dictionaries, in checks if a specific key exists among the dictionary's keys (it uses a highly efficient hash-based lookup, making it very fast).\n",
        "\n",
        "15.Can you modify the elements of a tuple ? Explain why or why not.\n",
        "- No, you cannot modify the elements of a tuple after it's created.\n",
        "  This is because tuples are immutable, meaning their contents are fixed and unchangeable once defined.\n",
        "\n",
        "16.What is a nested dictionary and give an example of its use case.\n",
        "- A nested dictionary is a dictionary where the values are themselves\n",
        "  dictionaries.\n",
        "\n",
        "  Use case: Storing hierarchical data, like a database of users where each user has a dictionary of details (name, email, address), and the outer dictionary uses user IDs as keys.\n",
        "\n",
        "17.Describe the time complexity of accessing elements in dictionary.\n",
        "- The time complexity of accessing elements in a Python dictionary\n",
        "  (ie., looking up a value using its key) is, on average, O(1) (constant time).\n",
        "\n",
        "18.In what situations are lists preferred over dictionaries?\n",
        "- When data naturally fits a sequence, where order and positional\n",
        "  access are important, and duplicates are acceptable, a list is the preffered choice.\n",
        "\n",
        "19.Why are dictionaries considered unordered, and how does that affect data retrieval?\n",
        "- Dictionaries are designed for fast, direct access to values when we\n",
        "  have the unique key. Their \"unordered\" nature means we trade index-based access for extremely efficient key-based retrieval, making them ideal for mapping and lookup tasks.\n",
        "  We cannot retrieve items using integer indices like my_dict[0]. We must know the exact key to retrieve its associated value.\n",
        "  Data retrieval is inherently driven by the key. If we don't know the key, we have to iterate through the dictionary's keys or values to find what we're looking for, which is less efficient than a direct key lookup.\n",
        "\n",
        "20.Explain the difference between a list and a dictionary in terms of data retrieval.\n",
        "- Lists are for ordered collections where you want to retrieve \"the Nth item,\" like List[1]. - while dictionaries are for unordered collections where you want to retrieve \"the item named X. eg, my_dict = {'name': 'Sonu', 'age': 26, 'city': 'Nashik'} person_name = my_dict['name'] person_age = my_age['age']\n",
        "\n"
      ],
      "metadata": {
        "id": "Cxq-oyehelkU"
      },
      "id": "Cxq-oyehelkU"
    },
    {
      "cell_type": "code",
      "source": [
        "#1.Write a code to create a string with your name and print it.\n",
        "name = \"Akshat Sharma\"\n",
        "print(name)"
      ],
      "metadata": {
        "id": "RB0NNKhleZxP",
        "outputId": "a43fb173-bc3c-4682-8ac0-bb75bb2cecd0",
        "colab": {
          "base_uri": "https://localhost:8080/"
        }
      },
      "id": "RB0NNKhleZxP",
      "execution_count": 1,
      "outputs": [
        {
          "output_type": "stream",
          "name": "stdout",
          "text": [
            "Akshat Sharma\n"
          ]
        }
      ]
    },
    {
      "cell_type": "code",
      "source": [
        "#2.Write a code to find the length of the string \"Hello World\".\n",
        "print(len(\"Hello World\"))"
      ],
      "metadata": {
        "id": "HlF5L5q-f-ln",
        "outputId": "f5187867-c479-45a6-f86c-250489164d13",
        "colab": {
          "base_uri": "https://localhost:8080/"
        }
      },
      "id": "HlF5L5q-f-ln",
      "execution_count": 2,
      "outputs": [
        {
          "output_type": "stream",
          "name": "stdout",
          "text": [
            "11\n"
          ]
        }
      ]
    },
    {
      "cell_type": "code",
      "source": [
        "#3.Write a code to slice the first 3 characters from the string \"Python Programming\".\n",
        "string = \"Python Programming\"\n",
        "sliced_string = string[:3]\n",
        "print(sliced_string)"
      ],
      "metadata": {
        "id": "gzQritnTgGl2",
        "outputId": "5af379cb-3b6b-4b06-96ea-f5cd156447e8",
        "colab": {
          "base_uri": "https://localhost:8080/"
        }
      },
      "id": "gzQritnTgGl2",
      "execution_count": 3,
      "outputs": [
        {
          "output_type": "stream",
          "name": "stdout",
          "text": [
            "Pyt\n"
          ]
        }
      ]
    },
    {
      "cell_type": "code",
      "source": [
        "#4.Write a code to convert the string \"hello\" to uppercase.\n",
        "string=\"hello\"\n",
        "uprString = string.upper()\n",
        "print(uprString)"
      ],
      "metadata": {
        "id": "tjDOJA3cgOWR",
        "outputId": "946215c9-3664-4930-b0e5-50c020b117fd",
        "colab": {
          "base_uri": "https://localhost:8080/"
        }
      },
      "id": "tjDOJA3cgOWR",
      "execution_count": 4,
      "outputs": [
        {
          "output_type": "stream",
          "name": "stdout",
          "text": [
            "HELLO\n"
          ]
        }
      ]
    },
    {
      "cell_type": "code",
      "source": [
        "#5.Write a code to replace the word \"apple\" with \"orange\" in the string \"I like apple\".\n",
        "String = \"I like apple\"\n",
        "repString = String.replace('apple', 'orange')\n",
        "print(repString)"
      ],
      "metadata": {
        "id": "8pq2S2xRgVZP",
        "outputId": "7e97e076-08d9-4779-a665-8dddead76292",
        "colab": {
          "base_uri": "https://localhost:8080/"
        }
      },
      "id": "8pq2S2xRgVZP",
      "execution_count": 5,
      "outputs": [
        {
          "output_type": "stream",
          "name": "stdout",
          "text": [
            "I like orange\n"
          ]
        }
      ]
    },
    {
      "cell_type": "code",
      "source": [
        "#6.Write a code to create a list with numbers 1 to 5 and print it.\n",
        "numList= [1,2,3,4,5]\n",
        "print(numList)"
      ],
      "metadata": {
        "id": "ZrRcYfbrgdEL",
        "outputId": "5d531d6a-3f40-4f8d-89db-1d0c915d91cd",
        "colab": {
          "base_uri": "https://localhost:8080/"
        }
      },
      "id": "ZrRcYfbrgdEL",
      "execution_count": 6,
      "outputs": [
        {
          "output_type": "stream",
          "name": "stdout",
          "text": [
            "[1, 2, 3, 4, 5]\n"
          ]
        }
      ]
    },
    {
      "cell_type": "code",
      "source": [
        "#7.Write a code to append the number 10 to the list [1, 2, 3, 4].\n",
        "numList=[1, 2, 3, 4]\n",
        "numList.append(10)\n",
        "print(numList)"
      ],
      "metadata": {
        "id": "UADyG6Glgy9s",
        "outputId": "3d370b60-a56b-40e7-b45c-0ffe2444acf9",
        "colab": {
          "base_uri": "https://localhost:8080/"
        }
      },
      "id": "UADyG6Glgy9s",
      "execution_count": 7,
      "outputs": [
        {
          "output_type": "stream",
          "name": "stdout",
          "text": [
            "[1, 2, 3, 4, 10]\n"
          ]
        }
      ]
    },
    {
      "cell_type": "code",
      "source": [
        "#8.Write a code to remove the number 3 from the list [1, 2, 3, 4, 5].\n",
        "nulList= [1, 2, 3, 4, 5]\n",
        "nulList.remove(3)\n",
        "print(nulList)"
      ],
      "metadata": {
        "id": "815Ds6Sthe4F",
        "outputId": "55f2eb36-0501-40b3-d68d-d4de5f1b1c94",
        "colab": {
          "base_uri": "https://localhost:8080/"
        }
      },
      "id": "815Ds6Sthe4F",
      "execution_count": 8,
      "outputs": [
        {
          "output_type": "stream",
          "name": "stdout",
          "text": [
            "[1, 2, 4, 5]\n"
          ]
        }
      ]
    },
    {
      "cell_type": "code",
      "source": [
        "#9.Write a code to access the second element in the list ['a', 'b', 'c', 'd'].\n",
        "alphList=['a', 'b', 'c', 'd']\n",
        "print(alphList[1])"
      ],
      "metadata": {
        "id": "s4XU0nFkhkvF",
        "outputId": "6b680dc2-d8d6-4935-ae36-e7a5446f9b89",
        "colab": {
          "base_uri": "https://localhost:8080/"
        }
      },
      "id": "s4XU0nFkhkvF",
      "execution_count": 9,
      "outputs": [
        {
          "output_type": "stream",
          "name": "stdout",
          "text": [
            "b\n"
          ]
        }
      ]
    },
    {
      "cell_type": "code",
      "source": [
        "#10.Write a code to reverse the list [10, 20, 30, 40, 50].\n",
        "numList=[10, 20, 30, 40, 50]\n",
        "print(numList[::-1])"
      ],
      "metadata": {
        "id": "Ywz4jzqkhuCu",
        "outputId": "6f12e5af-da99-44b6-cfc7-8baa781a92e6",
        "colab": {
          "base_uri": "https://localhost:8080/"
        }
      },
      "id": "Ywz4jzqkhuCu",
      "execution_count": 10,
      "outputs": [
        {
          "output_type": "stream",
          "name": "stdout",
          "text": [
            "[50, 40, 30, 20, 10]\n"
          ]
        }
      ]
    },
    {
      "cell_type": "code",
      "source": [
        "#11. Write a code to create a tuple with the elements 100, 200, 300 and print it.\n",
        "fisrtTuple = (100,200,300)\n",
        "print(fisrtTuple)"
      ],
      "metadata": {
        "id": "7CO4xX5xhySv",
        "outputId": "0a5dd75e-463a-4db6-a252-1ac18ef2d60c",
        "colab": {
          "base_uri": "https://localhost:8080/"
        }
      },
      "id": "7CO4xX5xhySv",
      "execution_count": 11,
      "outputs": [
        {
          "output_type": "stream",
          "name": "stdout",
          "text": [
            "(100, 200, 300)\n"
          ]
        }
      ]
    },
    {
      "cell_type": "code",
      "source": [
        "#12.Write a code to access the second-to-last element of the tuple ('red', 'green', 'blue', 'yellow').\n",
        "colTuple = ('red', 'green', 'blue', 'yellow')\n",
        "print(colTuple[-2])"
      ],
      "metadata": {
        "id": "0Zn4W7caiHCr",
        "outputId": "26d94ab5-949c-4a7a-9a87-17c261463cbd",
        "colab": {
          "base_uri": "https://localhost:8080/"
        }
      },
      "id": "0Zn4W7caiHCr",
      "execution_count": 12,
      "outputs": [
        {
          "output_type": "stream",
          "name": "stdout",
          "text": [
            "blue\n"
          ]
        }
      ]
    },
    {
      "cell_type": "code",
      "source": [
        "#13. Write a code to find the minimum number in the tuple (10, 20, 5, 15).\n",
        "numTuple = (10, 20, 5, 15)\n",
        "print(min(numTuple))"
      ],
      "metadata": {
        "id": "OUM6YOyhiWdO",
        "outputId": "c6e57127-3024-45ed-f4ce-5cb3154ffc20",
        "colab": {
          "base_uri": "https://localhost:8080/"
        }
      },
      "id": "OUM6YOyhiWdO",
      "execution_count": 13,
      "outputs": [
        {
          "output_type": "stream",
          "name": "stdout",
          "text": [
            "5\n"
          ]
        }
      ]
    },
    {
      "cell_type": "code",
      "source": [
        "#14.Write a code to find the index of the element \"cat\" in the tuple ('dog', 'cat', 'rabbit').\n",
        "aniTuple = ('dog', 'cat', 'rabbit')\n",
        "print(aniTuple.index('cat'))"
      ],
      "metadata": {
        "id": "yrgB6IiJidrF",
        "outputId": "0d2638b8-2cf4-4b84-9b8e-a4763ed5a25c",
        "colab": {
          "base_uri": "https://localhost:8080/"
        }
      },
      "id": "yrgB6IiJidrF",
      "execution_count": 14,
      "outputs": [
        {
          "output_type": "stream",
          "name": "stdout",
          "text": [
            "1\n"
          ]
        }
      ]
    },
    {
      "cell_type": "code",
      "source": [
        "#15. Write a code to create a tuple containing three different fruits and check if \"kiwi\" is in it.\n",
        "fruTuple = ('Apple','mango','kiwi')\n",
        "ifKiwi= 'kiwi' in fruTuple\n",
        "print(ifKiwi)"
      ],
      "metadata": {
        "id": "bnHPAuMWinYY",
        "outputId": "2aeca88f-37dc-4f4e-97eb-ac219764ccb7",
        "colab": {
          "base_uri": "https://localhost:8080/"
        }
      },
      "id": "bnHPAuMWinYY",
      "execution_count": 15,
      "outputs": [
        {
          "output_type": "stream",
          "name": "stdout",
          "text": [
            "True\n"
          ]
        }
      ]
    },
    {
      "cell_type": "code",
      "source": [
        "#16.Write a code to create a set with the elements 'a', 'b', 'c' and print it.\n",
        "alphSet = {'a','b','c'}\n",
        "print(alphSet)"
      ],
      "metadata": {
        "id": "bRSmx850irhl",
        "outputId": "837b7b1e-36e2-47fd-9f9f-2b0927a75813",
        "colab": {
          "base_uri": "https://localhost:8080/"
        }
      },
      "id": "bRSmx850irhl",
      "execution_count": 16,
      "outputs": [
        {
          "output_type": "stream",
          "name": "stdout",
          "text": [
            "{'b', 'a', 'c'}\n"
          ]
        }
      ]
    },
    {
      "cell_type": "code",
      "source": [
        "#17.Write a code to clear all elements from the set {1, 2, 3, 4, 5}.\n",
        "alphSet =  {1, 2, 3, 4, 5}\n",
        "clearSet = alphSet.clear()\n",
        "print(clearSet)"
      ],
      "metadata": {
        "id": "j_BZx_t0iyC-",
        "outputId": "6f15c38e-7c32-4593-d717-672e872c5e9a",
        "colab": {
          "base_uri": "https://localhost:8080/"
        }
      },
      "id": "j_BZx_t0iyC-",
      "execution_count": 17,
      "outputs": [
        {
          "output_type": "stream",
          "name": "stdout",
          "text": [
            "None\n"
          ]
        }
      ]
    },
    {
      "cell_type": "code",
      "source": [
        "#18.Write a code to remove the element 4 from the set {1, 2, 3, 4}\n",
        "alphaSet = {1, 2, 3, 4}\n",
        "remSet= alphaSet.remove(4)\n",
        "print(alphaSet)"
      ],
      "metadata": {
        "id": "ceqz1Fwji8NK",
        "outputId": "960c6cc7-7c18-4b72-efd3-e687d8792342",
        "colab": {
          "base_uri": "https://localhost:8080/"
        }
      },
      "id": "ceqz1Fwji8NK",
      "execution_count": 18,
      "outputs": [
        {
          "output_type": "stream",
          "name": "stdout",
          "text": [
            "{1, 2, 3}\n"
          ]
        }
      ]
    },
    {
      "cell_type": "code",
      "source": [
        "#19.Write a code to find the union of two sets {1, 2, 3} and {3, 4, 5}.\n",
        "set1 = {1, 2, 3}\n",
        "set2 = {3, 4, 5}\n",
        "setUnion = set1.union(set2)\n",
        "print(setUnion)"
      ],
      "metadata": {
        "id": "es_jamO-jFaL",
        "outputId": "6a84aebb-52f7-4840-8922-014d526e7107",
        "colab": {
          "base_uri": "https://localhost:8080/"
        }
      },
      "id": "es_jamO-jFaL",
      "execution_count": 19,
      "outputs": [
        {
          "output_type": "stream",
          "name": "stdout",
          "text": [
            "{1, 2, 3, 4, 5}\n"
          ]
        }
      ]
    },
    {
      "cell_type": "code",
      "source": [
        "#20.Write a code to find the intersection of two sets {1, 2, 3} and {2, 3, 4}.\n",
        "set1 = {1, 2, 3}\n",
        "set2 = {3, 4, 5}\n",
        "setIntersect= set1.intersection(set2)\n",
        "print(setIntersect)"
      ],
      "metadata": {
        "id": "oYNxS_JWjL1W",
        "outputId": "c276b569-2a5b-4265-9a6e-2a48643e7bc9",
        "colab": {
          "base_uri": "https://localhost:8080/"
        }
      },
      "id": "oYNxS_JWjL1W",
      "execution_count": 20,
      "outputs": [
        {
          "output_type": "stream",
          "name": "stdout",
          "text": [
            "{3}\n"
          ]
        }
      ]
    },
    {
      "cell_type": "code",
      "source": [
        "#21.Write a code to create a dictionary with the keys \"name\", \"age\", and \"city\", and print it.\n",
        "perDict = {'name':'Sonu', 'age':'26', 'city':'Nashik'}\n",
        "print(perDict)"
      ],
      "metadata": {
        "id": "PsOaPQwMjso6",
        "outputId": "300183e3-4577-49a7-ad5a-ab95ce966709",
        "colab": {
          "base_uri": "https://localhost:8080/"
        }
      },
      "id": "PsOaPQwMjso6",
      "execution_count": 21,
      "outputs": [
        {
          "output_type": "stream",
          "name": "stdout",
          "text": [
            "{'name': 'Sonu', 'age': '26', 'city': 'Nashik'}\n"
          ]
        }
      ]
    },
    {
      "cell_type": "code",
      "source": [
        "#22.Write a code to add a new key-value pair \"country\": \"USA\" to the dictionary {'name': 'John', 'age': 25}\n",
        "perDict = {'name':'Sonu', 'age':'26', 'city':'Nashik'}\n",
        "perDict['Country']='USA'\n",
        "print(perDict)"
      ],
      "metadata": {
        "id": "VPg-Wwgrjz5U",
        "outputId": "cda88fa6-ee57-4fdc-a5c1-6a5b039c7ceb",
        "colab": {
          "base_uri": "https://localhost:8080/"
        }
      },
      "id": "VPg-Wwgrjz5U",
      "execution_count": 22,
      "outputs": [
        {
          "output_type": "stream",
          "name": "stdout",
          "text": [
            "{'name': 'Sonu', 'age': '26', 'city': 'Nashik', 'Country': 'USA'}\n"
          ]
        }
      ]
    },
    {
      "cell_type": "code",
      "source": [
        "#22.Write a code to add a new key-value pair \"country\": \"USA\" to the dictionary {'name': 'John', 'age': 25}\n",
        "perDict = {'name':'Sonu', 'age':'26', 'city':'Nashik'}\n",
        "perDict['Country']='USA'\n",
        "print(perDict)"
      ],
      "metadata": {
        "id": "nhmFBCQ5j-c1",
        "outputId": "687ec42e-9626-4cfd-e738-f8e83351dcd1",
        "colab": {
          "base_uri": "https://localhost:8080/"
        }
      },
      "id": "nhmFBCQ5j-c1",
      "execution_count": 23,
      "outputs": [
        {
          "output_type": "stream",
          "name": "stdout",
          "text": [
            "{'name': 'Sonu', 'age': '26', 'city': 'Nashik', 'Country': 'USA'}\n"
          ]
        }
      ]
    },
    {
      "cell_type": "code",
      "source": [
        "#24.Write a code to remove the key \"age\" from the dictionary {'name': 'Bob', 'age': 22, 'city': 'New York'}.\n",
        "bobdict = {'name': 'Bob', 'age': 22, 'city': 'New York'}\n",
        "remDic = bobdict.pop('age')\n",
        "print(remDic)\n",
        "print(bobdict)"
      ],
      "metadata": {
        "id": "A_6Z75YMkFL7",
        "outputId": "c46eb349-6752-4b54-9ab7-d292c0b91eb9",
        "colab": {
          "base_uri": "https://localhost:8080/"
        }
      },
      "id": "A_6Z75YMkFL7",
      "execution_count": 24,
      "outputs": [
        {
          "output_type": "stream",
          "name": "stdout",
          "text": [
            "22\n",
            "{'name': 'Bob', 'city': 'New York'}\n"
          ]
        }
      ]
    },
    {
      "cell_type": "code",
      "source": [
        "#25. Write a code to check if the key \"city\" exists in the dictionary {'name': 'Alice', 'city': 'Paris'}\n",
        "nameDict = {'name': 'Alice', 'city': 'Paris'}\n",
        "doExist = 'city' in nameDict\n",
        "print(doExist)"
      ],
      "metadata": {
        "id": "5r7R26n-kKAN",
        "outputId": "6ea28dd8-c949-4ce2-e7b4-3c49e10ae950",
        "colab": {
          "base_uri": "https://localhost:8080/"
        }
      },
      "id": "5r7R26n-kKAN",
      "execution_count": 25,
      "outputs": [
        {
          "output_type": "stream",
          "name": "stdout",
          "text": [
            "True\n"
          ]
        }
      ]
    },
    {
      "cell_type": "code",
      "source": [
        "#26.Write a code to create a list, a tuple, and a dictionary, and print them all.\n",
        "exList=['Jyoti','Anjali','Ruchi']\n",
        "exTuple=('Komal','Priti','Priyanka')\n",
        "exDict={'Name':'Komal','Age':'24','Relation':'wife'}\n",
        "print(exList)\n",
        "print(exTuple)\n",
        "print(exDict)"
      ],
      "metadata": {
        "id": "M07EcR52kUC4",
        "outputId": "d8bac892-2f2b-47a2-c0c4-b78abe6c3ff3",
        "colab": {
          "base_uri": "https://localhost:8080/"
        }
      },
      "id": "M07EcR52kUC4",
      "execution_count": 26,
      "outputs": [
        {
          "output_type": "stream",
          "name": "stdout",
          "text": [
            "['Jyoti', 'Anjali', 'Ruchi']\n",
            "('Komal', 'Priti', 'Priyanka')\n",
            "{'Name': 'Komal', 'Age': '24', 'Relation': 'wife'}\n"
          ]
        }
      ]
    },
    {
      "cell_type": "code",
      "source": [
        "#27.Write a code to create a list of 5 random numbers between 1 and 100, sort it in ascending order, and print the result.(replaced)\n",
        "import random\n",
        "\n",
        "# Create a list of 5 random numbers between 1 and 100\n",
        "random_numbers = random.sample(range(1, 101), 5)\n",
        "\n",
        "# Sort the list in ascending order\n",
        "random_numbers.sort()\n",
        "\n",
        "# Print the result\n",
        "print(random_numbers)"
      ],
      "metadata": {
        "id": "_rzehOYakWV6",
        "outputId": "becce9ce-1e13-498c-ace6-9c149f2f2e20",
        "colab": {
          "base_uri": "https://localhost:8080/"
        }
      },
      "id": "_rzehOYakWV6",
      "execution_count": 27,
      "outputs": [
        {
          "output_type": "stream",
          "name": "stdout",
          "text": [
            "[1, 45, 63, 87, 100]\n"
          ]
        }
      ]
    },
    {
      "cell_type": "code",
      "source": [
        "#28.Write a code to create a list with strings and print the element at the third index.\n",
        "strList=['Sonal','Anjali','Reshma','Tara','Shivani']\n",
        "thirdIndex=strList[4]\n",
        "print(thirdIndex)"
      ],
      "metadata": {
        "id": "2K2PP1lckf2Y",
        "outputId": "d8352865-5539-41ae-dca2-422ce1179a60",
        "colab": {
          "base_uri": "https://localhost:8080/"
        }
      },
      "id": "2K2PP1lckf2Y",
      "execution_count": 29,
      "outputs": [
        {
          "output_type": "stream",
          "name": "stdout",
          "text": [
            "Shivani\n"
          ]
        }
      ]
    },
    {
      "cell_type": "code",
      "source": [
        "#29. Write a code to combine two dictionaries into one and print the result.\n",
        "Dict1={'Name':'Shivani','Age':'27','Relation':'wife'}\n",
        "Dict2={'MarriageDate':'10/03/2033'}\n",
        "combDict={**Dict1,**Dict2}\n",
        "print(combDict)"
      ],
      "metadata": {
        "id": "lCvFu6-xlCUr",
        "outputId": "2f2e8248-e250-4310-b5b0-184569aa3e6b",
        "colab": {
          "base_uri": "https://localhost:8080/"
        }
      },
      "id": "lCvFu6-xlCUr",
      "execution_count": 32,
      "outputs": [
        {
          "output_type": "stream",
          "name": "stdout",
          "text": [
            "{'Name': 'Shivani', 'Age': '27', 'Relation': 'wife', 'MarriageDate': '10/03/2033'}\n"
          ]
        }
      ]
    },
    {
      "cell_type": "code",
      "source": [
        "#30.Write a code to convert a list of strings into a set.\n",
        "string_list = [\"apple\", \"banana\", \"cherry\", \"apple\", \"banana\"]\n",
        "string_set = set(string_list)\n",
        "print(string_set)"
      ],
      "metadata": {
        "id": "6TAUPrftmGe-",
        "outputId": "1752de27-fc04-47d4-c74d-c1385d296e45",
        "colab": {
          "base_uri": "https://localhost:8080/"
        }
      },
      "id": "6TAUPrftmGe-",
      "execution_count": 33,
      "outputs": [
        {
          "output_type": "stream",
          "name": "stdout",
          "text": [
            "{'apple', 'banana', 'cherry'}\n"
          ]
        }
      ]
    }
  ],
  "metadata": {
    "kernelspec": {
      "display_name": "Python 3",
      "name": "python3"
    },
    "language_info": {
      "name": "python"
    },
    "required_libs": [],
    "colab": {
      "provenance": []
    }
  },
  "nbformat": 4,
  "nbformat_minor": 5
}